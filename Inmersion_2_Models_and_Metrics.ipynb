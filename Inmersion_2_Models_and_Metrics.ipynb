{
  "nbformat": 4,
  "nbformat_minor": 0,
  "metadata": {
    "colab": {
      "provenance": [],
      "authorship_tag": "ABX9TyMw+MSYIj/tT172iRDpRM1N",
      "include_colab_link": true
    },
    "kernelspec": {
      "name": "python3",
      "display_name": "Python 3"
    },
    "language_info": {
      "name": "python"
    }
  },
  "cells": [
    {
      "cell_type": "markdown",
      "metadata": {
        "id": "view-in-github",
        "colab_type": "text"
      },
      "source": [
        "<a href=\"https://colab.research.google.com/github/MiguelGmz7/Inmersion-2_Models-and-Metrics/blob/main/Inmersion_2_Models_and_Metrics.ipynb\" target=\"_parent\"><img src=\"https://colab.research.google.com/assets/colab-badge.svg\" alt=\"Open In Colab\"/></a>"
      ]
    },
    {
      "cell_type": "markdown",
      "source": [
        "---\n",
        "# Inmersion de datos CLASE 2\n"
      ],
      "metadata": {
        "id": "wcdgMtatTKPT"
      }
    },
    {
      "cell_type": "markdown",
      "source": [
        "### Recuperamos el dataframe de google drive"
      ],
      "metadata": {
        "id": "2wR0bhA2w0Hc"
      }
    },
    {
      "cell_type": "code",
      "source": [
        "import pandas as pd\n",
        "import matplotlib.pyplot as plt\n",
        "import seaborn as sns\n",
        "from google.colab import drive\n",
        "import warnings\n",
        "\n",
        "drive.mount('/content/Drive')\n",
        "warnings.filterwarnings('ignore')\n",
        "\n",
        "df_banco = pd.read_csv('/content/Drive/MyDrive/inmersion/resources/german_credit_clean.csv')\n"
      ],
      "metadata": {
        "id": "Pjl-1SeQw33q",
        "colab": {
          "base_uri": "https://localhost:8080/"
        },
        "outputId": "dcfbeed7-e072-4f1c-b05a-dddce2de7ec2"
      },
      "execution_count": null,
      "outputs": [
        {
          "output_type": "stream",
          "name": "stdout",
          "text": [
            "Mounted at /content/Drive\n"
          ]
        }
      ]
    },
    {
      "cell_type": "markdown",
      "source": [
        "## Construccion de modelos\n"
      ],
      "metadata": {
        "id": "RgtWWujnqpcq"
      }
    },
    {
      "cell_type": "markdown",
      "source": [
        "### Importar librerias\n",
        "\n",
        "primero tendremos que importar las librerias:\n",
        "\n",
        "- **train_test_split**: poder (entrenar y probar el modelo de machine learning)\n",
        "<br></br>\n",
        "- **LogisticRegression**: nos permite usar el modelo de regresion linear\n",
        "<br></br>\n",
        "-  **DecisionTreeClassifier**: usamos el modelo de clasificacion de arbol de desion\n",
        "<br></br>\n",
        "- **RandomForestClassifier**: combina muchos modelos de clasificadores de arbol para así mejorar el modelo\n",
        "<br></br>\n",
        "- **GaussianNB**: importa el modelo de naive-bayes para clasificacion\n",
        "<br></br>\n",
        "- **sklearn.metrics**: importamos metricas para medir parametros del modelo"
      ],
      "metadata": {
        "id": "XizGrB_wrAWu"
      }
    },
    {
      "cell_type": "code",
      "source": [
        "from sklearn.model_selection import train_test_split\n",
        "from sklearn.linear_model import LogisticRegression\n",
        "from sklearn.tree import DecisionTreeClassifier\n",
        "from sklearn.ensemble import RandomForestClassifier\n",
        "from sklearn.naive_bayes import GaussianNB\n",
        "from sklearn.metrics import accuracy_score, precision_score, recall_score, f1_score, roc_auc_score, roc_curve\n"
      ],
      "metadata": {
        "id": "J2mA0dX6TN0v"
      },
      "execution_count": null,
      "outputs": []
    },
    {
      "cell_type": "markdown",
      "source": [
        "### Usar un generar el modelo"
      ],
      "metadata": {
        "id": "j-nrlA76vp8w"
      }
    },
    {
      "cell_type": "code",
      "source": [
        "x = df_banco.drop('default', axis=1)\n",
        "y = df_banco['default']\n",
        "\n",
        "x_train, x_test, y_train, y_test = train_test_split(x,y, test_size=0.3, random_state=42)\n",
        "\n",
        "# train_test_split\n",
        "# - seleccionamos la muestra y la prueba de las variables x\n",
        "# - seleeccionamos la muestra y la prueba de nuestra clase\n",
        "# - seleccionamos que nuestros datos de prueba seran el 30% de todos nuestros datos\n",
        "\n",
        "# - elegimos una semilla de aletoriedad (en este caso el numero 42)\n",
        "# ¿Que es la semilla de aletoriedad?\n",
        "\n",
        "# cada que corramos este modelo, tendremos siempre los mismos resultados, aunque la forma de elegir nustra muestra y testeo es aletoria\n",
        "\n",
        "# al tener siempre la misma semilla (osea siempre eligira los mismos datos), nos dara los mismos resultados\n",
        "\n",
        "# esto es muy util a la hora de elegir diferentes modelos\n",
        "\n",
        "\n",
        "\n",
        "# entrenar al modelo\n",
        "modelo = LogisticRegression()\n",
        "modelo.fit(x_train,y_train)\n",
        "\n",
        "# evaluar el modelo\n",
        "prediccions = modelo.predict(x_test)\n",
        "\n",
        "accuracy = accuracy_score(y_test, prediccions)\n",
        "\n",
        "print(f'Accuracy: {accuracy}')"
      ],
      "metadata": {
        "colab": {
          "base_uri": "https://localhost:8080/"
        },
        "id": "eKLEVYEVrHaQ",
        "outputId": "7aa85568-310b-4395-d81a-2725d0e50a80"
      },
      "execution_count": null,
      "outputs": [
        {
          "output_type": "stream",
          "name": "stdout",
          "text": [
            "Accuracy: 0.7766666666666666\n"
          ]
        }
      ]
    },
    {
      "cell_type": "markdown",
      "source": [
        "---\n",
        "### Usar diferentes modelos\n"
      ],
      "metadata": {
        "id": "_DW_i4q33KWr"
      }
    },
    {
      "cell_type": "code",
      "source": [
        "def create_models():\n",
        "  global df_banco, resultados\n",
        "\n",
        "  y = df_banco['default']\n",
        "  x = df_banco.drop(columns='default')\n",
        "\n",
        "  x_train, x_test, y_train, y_test = train_test_split(x, y, test_size=0.30, random_state=77)\n",
        "\n",
        "  models = {\n",
        "      'Regresion Logística': LogisticRegression(),\n",
        "      'Arbol de Decision': DecisionTreeClassifier(),\n",
        "      'Random Forest': RandomForestClassifier(),\n",
        "      'Naive Bayes': GaussianNB()\n",
        "  }\n",
        "\n",
        "  results = {\n",
        "      'Model': [],\n",
        "      'Accuracy':[],\n",
        "      'Precision':[],\n",
        "      'Recall':[],\n",
        "      'F1-score': [],\n",
        "      'AUC-ROC': []\n",
        "  }\n",
        "\n",
        "  for name, model in models.items():\n",
        "    model.fit(x_train, y_train)\n",
        "\n",
        "    y_predictions = model.predict(x_test)\n",
        "\n",
        "    accuracy = accuracy_score(y_test, y_predictions)\n",
        "\n",
        "    precision = precision_score(y_test, y_predictions)\n",
        "\n",
        "    recall = recall_score(y_test, y_predictions)\n",
        "\n",
        "    f1 = f1_score(y_test, y_predictions)\n",
        "\n",
        "\n",
        "    if hasattr(model, \"predict_proba\"):\n",
        "      proba = model.predict_proba(x_test)\n",
        "      roc_auc = roc_auc_score(y_test, proba[:, 1])\n",
        "\n",
        "    else:\n",
        "      roc_auc = None\n",
        "\n",
        "    results['Model'].append(name)\n",
        "    results['Accuracy'].append(accuracy)\n",
        "    results['Precision'].append(precision)\n",
        "    results['Recall'].append(recall)\n",
        "    results['F1-score'].append(f1)\n",
        "    results['AUC-ROC'].append(roc_auc)\n",
        "\n",
        "  resultados = results\n",
        "\n",
        "\n"
      ],
      "metadata": {
        "id": "ChWg-uNI3NeV"
      },
      "execution_count": null,
      "outputs": []
    },
    {
      "cell_type": "code",
      "source": [
        "create_models()\n",
        "for i,model in enumerate(resultados['Model']):\n",
        "  print(model)\n",
        "  print(f\"Accuracy: {resultados['Accuracy'][i]}\")\n",
        "  print(f\"Precision: {resultados['Precision'][i]}\")\n",
        "  print(f\"Recall: {resultados['Recall'][i]}\")\n",
        "  print(f\"F1: {resultados['F1-score'][i]}\")\n",
        "  print(f\"AUC-ROC: {resultados['AUC-ROC'][i]}\")\n",
        "  print('\\n')"
      ],
      "metadata": {
        "colab": {
          "base_uri": "https://localhost:8080/"
        },
        "id": "W_48nhj-B04_",
        "outputId": "cc4fad84-9e1e-42fa-e77c-963818b7c584"
      },
      "execution_count": null,
      "outputs": [
        {
          "output_type": "stream",
          "name": "stdout",
          "text": [
            "Regresion Logística\n",
            "Accuracy: 0.78\n",
            "Precision: 0.6785714285714286\n",
            "Recall: 0.4418604651162791\n",
            "F1: 0.5352112676056338\n",
            "AUC-ROC: 0.799934796783308\n",
            "\n",
            "\n",
            "Arbol de Decision\n",
            "Accuracy: 0.6933333333333334\n",
            "Precision: 0.4625\n",
            "Recall: 0.43023255813953487\n",
            "F1: 0.4457831325301205\n",
            "AUC-ROC: 0.6146489893501412\n",
            "\n",
            "\n",
            "Random Forest\n",
            "Accuracy: 0.7933333333333333\n",
            "Precision: 0.7307692307692307\n",
            "Recall: 0.4418604651162791\n",
            "F1: 0.5507246376811594\n",
            "AUC-ROC: 0.7898011301890893\n",
            "\n",
            "\n",
            "Naive Bayes\n",
            "Accuracy: 0.74\n",
            "Precision: 0.5465116279069767\n",
            "Recall: 0.5465116279069767\n",
            "F1: 0.5465116279069767\n",
            "AUC-ROC: 0.7800478156922409\n",
            "\n",
            "\n"
          ]
        }
      ]
    },
    {
      "cell_type": "markdown",
      "source": [
        "### Evaluacion y seleccion de modelos\n"
      ],
      "metadata": {
        "id": "6dqVaGeM2Kgb"
      }
    },
    {
      "cell_type": "code",
      "source": [
        "def visualiza_resultados():\n",
        "  global df_banco, resultados\n",
        "  results_df = pd.DataFrame(resultados)\n",
        "  results_df.set_index('Model', inplace=True)\n",
        "\n",
        "  # Transponer el DataFrame para facilitar la representación\n",
        "  results_df = results_df.T\n",
        "  colors = ['#0077b6', '#CDDBF3','#9370DB', '#DDA0DD']\n",
        "\n",
        "  # Gráfico de barras agrupadas para cada métrica\n",
        "  results_df.plot(kind='bar', figsize=(12, 6), colormap='viridis', rot=0, color=colors)\n",
        "  plt.title('Comparación de Métricas por Modelo')\n",
        "  plt.xlabel('Métricas')\n",
        "  plt.ylabel('Puntuación')\n",
        "  plt.legend(title='Modelos')\n",
        "  plt.tight_layout()\n",
        "  plt.show()\n",
        "\n",
        "  # @title Texto de título predeterminado\n",
        "  from IPython.display import HTML, display\n",
        "\n",
        "  # Texto que quieres centrar\n",
        "  texto = \"¿Cuál de estos modelos seleccionarías y por qué?\"\n",
        "\n",
        "  # Crear una celda HTML con el texto centrado\n",
        "  display(HTML(f\"<center><h2>{texto}</h2></center>\"))"
      ],
      "metadata": {
        "id": "kwpRTl4N2UKj"
      },
      "execution_count": null,
      "outputs": []
    },
    {
      "cell_type": "code",
      "source": [
        "visualiza_resultados()"
      ],
      "metadata": {
        "colab": {
          "base_uri": "https://localhost:8080/",
          "height": 418
        },
        "id": "X_k9Vaa32k4g",
        "outputId": "7c3ce980-7f29-428c-c20e-a38b8da2178a"
      },
      "execution_count": null,
      "outputs": [
        {
          "output_type": "display_data",
          "data": {
            "text/plain": [
              "<Figure size 1200x600 with 1 Axes>"
            ],
            "image/png": "[encoded data removed]"
          },
          "metadata": {}
        },
        {
          "output_type": "display_data",
          "data": {
            "text/plain": [
              "<IPython.core.display.HTML object>"
            ],
            "text/html": [
              "<center><h2>¿Cuál de estos modelos seleccionarías y por qué?</h2></center>"
            ]
          },
          "metadata": {}
        }
      ]
    }
  ]
}